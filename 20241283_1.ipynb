{
  "nbformat": 4,
  "nbformat_minor": 0,
  "metadata": {
    "colab": {
      "provenance": []
    },
    "kernelspec": {
      "name": "python3",
      "display_name": "Python 3"
    },
    "language_info": {
      "name": "python"
    }
  },
  "cells": [
    {
      "cell_type": "markdown",
      "source": [
        "# 3번. 생일 데이터를 교재 코드(heap.py)를 이용해 힙으로 저장하고, 생일이 느린 서로 10명의 친구를 출력하는 코드를 작성한다. 실행 결과가 셀에 나타나야 한다."
      ],
      "metadata": {
        "id": "4600uvuX9qp3"
      }
    },
    {
      "cell_type": "code",
      "execution_count": 9,
      "metadata": {
        "colab": {
          "base_uri": "https://localhost:8080/"
        },
        "id": "GydKYgVnzas8",
        "outputId": "a9b25a33-32a3-4145-990d-c817d9ed63c5"
      },
      "outputs": [
        {
          "output_type": "stream",
          "name": "stdout",
          "text": [
            "에러 발생 - 이름: 홍서연, 생일 값: 20241282 → unconverted data remains: 2\n",
            "생일이 늦은 순서 Top 10:\n",
            "신수민: 20051230\n",
            "이서영: 20051225\n",
            "강민주: 20051214\n",
            "김민경: 20051202\n",
            "이서영: 20051112\n",
            "배시은: 20051102\n",
            "김여원: 20051031\n",
            "이서진: 20051028\n",
            "서홍빈: 20051024\n",
            "김예빈: 20051019\n"
          ]
        }
      ],
      "source": [
        "import csv\n",
        "import heapq\n",
        "from datetime import datetime\n",
        "import pandas as pd\n",
        "import math\n",
        "\n",
        "# 생일을 저장할 힙 리스트\n",
        "birthday_heap = []\n",
        "\n",
        "# CSV 파일 불러오기\n",
        "with open('DS_Birthdaydata.csv', encoding='utf-8') as file:\n",
        "    reader = csv.reader(file)\n",
        "    next(reader)  # 헤더 건너뛰기\n",
        "    for row in reader:\n",
        "        name = row[1]  # 이름 열\n",
        "        birth_value = row[2]  # 생년월일 열\n",
        "\n",
        "        # NaN 또는 비정상 값 거르기\n",
        "        if birth_value.strip() == '' or birth_value.lower() == 'nan':\n",
        "            continue\n",
        "        try:\n",
        "            # 생년월일을 정수형으로 변환한 후 문자열로 바꿔 파싱\n",
        "            birth_str = str(int(float(birth_value)))  # \"20031015\"\n",
        "            birth_date = datetime.strptime(birth_str, '%Y%m%d')\n",
        "            heapq.heappush(birthday_heap, (-birth_date.timestamp(), name, birth_str))\n",
        "        except Exception as e:\n",
        "            print(f\"에러 발생 - 이름: {name}, 생일 값: {birth_value} → {e}\")\n",
        "            continue\n",
        "\n",
        "# 생일이 늦은 순서로 10명 출력\n",
        "print(\"생일이 늦은 순서 Top 10:\")\n",
        "for _ in range(min(10, len(birthday_heap))):\n",
        "    _, name, birth = heapq.heappop(birthday_heap)\n",
        "    print(f\"{name}: {birth}\")\n",
        "\n"
      ]
    },
    {
      "cell_type": "markdown",
      "source": [
        "# 4. 생일 데이터를 교재 코드(circularDoublyLinkedList.py)를 이용해 리스트로  저장하고, 같은 조(지난 과제 지정 조원 참조)의 친구들만 이름과 생년월일을 출력하는 코드를 작성한다. 실행 결과가 셀에 나타나야 한다."
      ],
      "metadata": {
        "id": "IQje7eXq-Ij5"
      }
    },
    {
      "cell_type": "code",
      "source": [
        "# 원형 이중 연결 리스트 클래스 정의\n",
        "class Node:\n",
        "    def __init__(self, data):\n",
        "        self.data = data\n",
        "        self.prev = self.next = self\n",
        "\n",
        "class CircularDoublyLinkedList:\n",
        "    def __init__(self):\n",
        "        self.head = None\n",
        "\n",
        "    def append(self, data):\n",
        "        new_node = Node(data)\n",
        "        if self.head is None:\n",
        "            self.head = new_node\n",
        "        else:\n",
        "            tail = self.head.prev\n",
        "            tail.next = new_node\n",
        "            new_node.prev = tail\n",
        "            new_node.next = self.head\n",
        "            self.head.prev = new_node\n",
        "\n",
        "    def __iter__(self):\n",
        "        node = self.head\n",
        "        if not node:\n",
        "            return\n",
        "        yield node.data\n",
        "        node = node.next\n",
        "        while node != self.head:\n",
        "            yield node.data\n",
        "            node = node.next\n",
        "import csv\n",
        "\n",
        "# 리스트 생성\n",
        "cdll = CircularDoublyLinkedList()\n",
        "# 조원 이름 목록으로 필터링\n",
        "my_group_names = {'허재희', '김수련', '안소형', '윤서영', '오다현', '김도경', '김채린', '김민영', '이진서', '김다연', '김여원', '김주영', '조예진', '홍지연'}\n",
        "\n",
        "\n",
        "\n",
        "# CSV 불러오기\n",
        "with open('DS_Birthdaydata.csv', encoding='utf-8') as file:\n",
        "    reader = csv.reader(file)\n",
        "    next(reader)  # 헤더 건너뛰기\n",
        "    for row in reader:\n",
        "        student_id = row[0].strip()\n",
        "        name = row[1].strip()\n",
        "        birth = row[2].strip()\n",
        "\n",
        "        if birth == '' or birth.lower() == 'nan':\n",
        "            continue\n",
        "\n",
        "        try:\n",
        "            birth_str = str(int(float(birth)))  # 20031015.0 -> \"20031015\"\n",
        "        except:\n",
        "            continue\n",
        "\n",
        "        cdll.append((student_id, name, birth_str))\n",
        "# 출력\n",
        "print(\"같은 조 친구들의 이름과 생일:\")\n",
        "for student_id, name, birth in cdll:\n",
        "    if name in my_group_names:  # ✅ 이름으로 비교!\n",
        "        print(f\"{name} ({student_id}): {birth}\")"
      ],
      "metadata": {
        "colab": {
          "base_uri": "https://localhost:8080/"
        },
        "id": "lCV84S8g3nwC",
        "outputId": "8d1c4aef-1a78-4a15-cdb3-012a247850c7"
      },
      "execution_count": 19,
      "outputs": [
        {
          "output_type": "stream",
          "name": "stdout",
          "text": [
            "같은 조 친구들의 이름과 생일:\n",
            "김다연 (******19): 20030304\n",
            "김도경 (******75): 20050923\n",
            "김민영 (******79): 20040210\n",
            "김수련 (******78): 20030110\n",
            "김여원 (******87): 20051031\n",
            "김주영 (******93): 20000922\n",
            "김채린 (******97): 20050123\n",
            "안소형 (******25): 20031022\n",
            "오다현 (******77): 20020505\n",
            "윤서영 (******35): 20050519\n",
            "이진서 (******59): 20040327\n",
            "조예진 (******71): 20040509\n",
            "허재희 (******81): 20050621\n",
            "홍지연 (******83): 20050203\n"
          ]
        }
      ]
    },
    {
      "cell_type": "markdown",
      "source": [
        "#5. 교재 8장 우선 순위 큐 연습문제\n",
        "#연습문제 1번\n",
        "최대 힙에서는 얕은 곳에 있는 노드가 깊은 곳에 있는 노드보다 작은 값을 가질 수 없다. 왜냐하면 부모 ≥ 자식이 항상 유지되기 때문이다.\n",
        "\n",
        "#연습문제 2번\n",
        "A[0]은 항상 최대값이지만 A[n-1]은 정렬되지 않아 반드시 최소값은 아니다.\n",
        "\n",
        "#연습문제 3번\n",
        "n // 2개\n",
        "\n",
        "#연습문제 4번\n",
        "최악의 경우 시간 복잡도:Θ(log n)\n",
        "최선의 경우 시간 복잡도:Θ(1)\n",
        "\n",
        "#연습문제 5번\n",
        "힙의 마지막 원소 삭제는 배열 pop 연산으로 간단히 처리되므로 쉬운 작업이다.\n",
        "\n",
        "#연습문제 6번\n",
        "이후에 자식들을 다시 바꾸는 일이 반복되면 불필요한 연산 증가되고\n",
        "시간 복잡도: Θ(nlogn)는 이렇게 나오므로 더 비효율적이다.\n",
        "\n",
        "#연습문제 7번\n",
        "n개의 원소로 이루어진 최대 힙에서 임의의 원소의 값이 증가하면,\n",
        "부모보다 커졌을 가능성이 있어 힙의 속성이 깨질 수 있다.\n",
        "이때 다음과 같은 과정을 통해 O(log n) 시간 안에 힙을 다시 수선할 수 있다."
      ],
      "metadata": {
        "id": "XAUsJ2LmAwMX"
      }
    },
    {
      "cell_type": "markdown",
      "source": [
        "#6. LeetCode 703.Kth Largest Element in Stream 문제"
      ],
      "metadata": {
        "id": "Dl1h2gTHFHjr"
      }
    },
    {
      "cell_type": "code",
      "source": [
        "class KthLargest:\n",
        "    def __init__(self, k, nums):\n",
        "        self.k = k\n",
        "        self.min_heap = []\n",
        "        for num in nums:\n",
        "            self.add(num)\n",
        "\n",
        "    def add(self, val):\n",
        "        heapq.heappush(self.min_heap, val)\n",
        "        if len(self.min_heap) > self.k:\n",
        "            heapq.heappop(self.min_heap)\n",
        "        return self.min_heap[0]"
      ],
      "metadata": {
        "id": "IkO54GzwFReq"
      },
      "execution_count": 20,
      "outputs": []
    }
  ]
}