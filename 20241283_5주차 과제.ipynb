{
  "nbformat": 4,
  "nbformat_minor": 0,
  "metadata": {
    "colab": {
      "provenance": [],
      "collapsed_sections": [
        "CbOf60Y-yT5I",
        "MmlvybEMyzUL",
        "neGZb4Ra0jjR"
      ]
    },
    "kernelspec": {
      "name": "python3",
      "display_name": "Python 3"
    },
    "language_info": {
      "name": "python"
    }
  },
  "cells": [
    {
      "cell_type": "markdown",
      "source": [
        "# **1. LeetCode 225. Implement Stack using Queues**"
      ],
      "metadata": {
        "id": "CbOf60Y-yT5I"
      }
    },
    {
      "cell_type": "code",
      "execution_count": 3,
      "metadata": {
        "id": "oETnMHlfyQtT"
      },
      "outputs": [],
      "source": [
        "class MyStack(object):\n",
        "\n",
        "    def __init__(self):\n",
        "        self.q1 = deque()\n",
        "        self.q2 = deque()\n",
        "\n",
        "\n",
        "    def push(self, x):\n",
        "        self.q2.append(x)\n",
        "        while self.q1 :\n",
        "            self.q2.append(self.q1.popleft())\n",
        "        self.q1, self.q2 = self.q2, self.q1\n",
        "\n",
        "    def pop(self):\n",
        "        return self.q1.popleft()\n",
        "\n",
        "\n",
        "    def top(self):\n",
        "        return self.q1[0]\n",
        "\n",
        "\n",
        "    def empty(self):\n",
        "        return not self.q1\n",
        "\n",
        "\n",
        "\n",
        "# Your MyStack object will be instantiated and called as such:\n",
        "# obj = MyStack()\n",
        "# obj.push(x)\n",
        "# param_2 = obj.pop()\n",
        "# param_3 = obj.top()\n",
        "# param_4 = obj.empty()"
      ]
    },
    {
      "cell_type": "markdown",
      "source": [
        "# **2. LeetCode 232. Implement Queue using Stacks**"
      ],
      "metadata": {
        "id": "MmlvybEMyzUL"
      }
    },
    {
      "cell_type": "code",
      "source": [
        "class MyQueue(object):\n",
        "\n",
        "    def __init__(self):\n",
        "        self.stack_in = []\n",
        "        self.stack_out = []\n",
        "\n",
        "    def push(self, x):\n",
        "        self.stack_in.append(x)\n",
        "\n",
        "\n",
        "    def pop(self):\n",
        "        self.move()\n",
        "        return self.stack_out.pop()\n",
        "\n",
        "    def peek(self):\n",
        "        self.move()\n",
        "        return self.stack_out[-1]\n",
        "\n",
        "    def empty(self):\n",
        "        return not self.stack_in and not self.stack_out\n",
        "    def move(self):\n",
        "        if not self.stack_out:\n",
        "            while self.stack_in:\n",
        "                self.stack_out.append(self.stack_in.pop())\n",
        "\n",
        "\n",
        "# Your MyQueue object will be instantiated and called as such:\n",
        "# obj = MyQueue()\n",
        "# obj.push(x)\n",
        "# param_2 = obj.pop()\n",
        "# param_3 = obj.peek()\n",
        "# param_4 = obj.empty()"
      ],
      "metadata": {
        "id": "YI0yLbCcy4_M"
      },
      "execution_count": 4,
      "outputs": []
    },
    {
      "cell_type": "markdown",
      "source": [
        "# **3. 교재의 큐 연습문제**"
      ],
      "metadata": {
        "id": "neGZb4Ra0jjR"
      }
    },
    {
      "cell_type": "markdown",
      "source": [
        "1번문제"
      ],
      "metadata": {
        "id": "uK8S3puk07Zo"
      }
    },
    {
      "cell_type": "code",
      "source": [
        "class ListQueue:\n",
        "    def __init__(self):\n",
        "        self.__queue = []\n",
        "\n",
        "    def enqueue(self, item):\n",
        "        self.__queue.insert(0, item)\n",
        "\n",
        "    def dequeue(self):\n",
        "        return self.__queue.pop()\n",
        "\n",
        "    def front(self):\n",
        "        if self.is_empty():\n",
        "            return None\n",
        "        else:\n",
        "            return self.__queue[-1]\n",
        "\n",
        "    def is_empty(self) -> bool:\n",
        "        return not bool(self.__queue)\n",
        "\n",
        "    def dequeue_all(self):\n",
        "        self.__queue.clear()\n"
      ],
      "metadata": {
        "id": "y540mDc90ruc"
      },
      "execution_count": 9,
      "outputs": []
    },
    {
      "cell_type": "markdown",
      "source": [
        "2번문제"
      ],
      "metadata": {
        "id": "kWPLkD3e0-GV"
      }
    },
    {
      "cell_type": "code",
      "source": [
        "def is_in_set(string: str) -> bool:\n",
        "    q = ListQueue()\n",
        "    index = 0\n",
        "    while string[index] != '$':\n",
        "        q.enqueue(string[index])\n",
        "        index += 1\n",
        "\n",
        "    index += 1\n",
        "    while index < len(string):\n",
        "        if q.dequeue() != string[index]:\n",
        "            return False\n",
        "        else:\n",
        "            index += 1\n",
        "\n",
        "    return True\n"
      ],
      "metadata": {
        "id": "j9aLjjHw1CDS"
      },
      "execution_count": 11,
      "outputs": []
    },
    {
      "cell_type": "markdown",
      "source": [
        "3번문제"
      ],
      "metadata": {
        "id": "DHNnyrCs1GUu"
      }
    },
    {
      "cell_type": "code",
      "source": [
        "class Node:\n",
        "    def __init__(self, item):\n",
        "        self.item = item\n",
        "        self.next = None\n",
        "\n",
        "class LinkedQueue:\n",
        "    def __init__(self):\n",
        "        self.front_node = None\n",
        "        self.rear_node = None\n",
        "\n",
        "    def is_empty(self):\n",
        "        return self.front_node is None\n",
        "\n",
        "    def enqueue(self, item):\n",
        "        new_node = Node(item)\n",
        "        if self.is_empty():\n",
        "            self.front_node = new_node\n",
        "            self.rear_node = new_node\n",
        "        else:\n",
        "            self.rear_node.next = new_node\n",
        "            self.rear_node = new_node\n",
        "\n",
        "    def dequeue(self):\n",
        "        if self.is_empty():\n",
        "            return None\n",
        "        item = self.front_node.item\n",
        "        self.front_node = self.front_node.next\n",
        "        if self.front_node is None:\n",
        "            self.rear_node = None\n",
        "        return item\n",
        "\n",
        "    def front(self):\n",
        "        if self.is_empty():\n",
        "            return None\n",
        "        return self.front_node.item\n",
        "\n",
        "    def dequeue_all(self):\n",
        "        self.front_node = None\n",
        "        self.rear_node = None\n"
      ],
      "metadata": {
        "id": "vFwkDu9P1I_a"
      },
      "execution_count": 14,
      "outputs": []
    },
    {
      "cell_type": "markdown",
      "source": [
        "4번문제"
      ],
      "metadata": {
        "id": "giTpwED01Jfw"
      }
    },
    {
      "cell_type": "code",
      "source": [
        "def push(q1: LinkedQueue, q2: LinkedQueue, item):\n",
        "    q2.dequeue_all()\n",
        "    while not q1.is_empty():\n",
        "        q2.enqueue(q1.dequeue())\n",
        "    q1.enqueue(item)\n",
        "    while not q2.is_empty():\n",
        "        q1.enqueue(q2.dequeue())\n",
        "\n",
        "def pop(q1: LinkedQueue, q2: LinkedQueue):\n",
        "    q2.dequeue_all()\n",
        "    count = 0\n",
        "    while not q1.is_empty():\n",
        "        q2.enqueue(q1.dequeue())\n",
        "        count += 1\n",
        "    for _ in range(count - 1):  # ← while → for 로 수정\n",
        "        q1.enqueue(q2.dequeue())\n",
        "    return q2.dequeue()\n"
      ],
      "metadata": {
        "id": "0mw4S_-Q1N_8"
      },
      "execution_count": 15,
      "outputs": []
    },
    {
      "cell_type": "markdown",
      "source": [
        "5번문제"
      ],
      "metadata": {
        "id": "89WJspu51MNd"
      }
    },
    {
      "cell_type": "code",
      "source": [
        "class Node:\n",
        "    def __init__(self, item):\n",
        "        self.item = item\n",
        "        self.next = None\n",
        "\n",
        "class LinkedStack:\n",
        "    def __init__(self):\n",
        "        self.top_node = None\n",
        "\n",
        "    def is_empty(self):\n",
        "        return self.top_node is None\n",
        "\n",
        "    def push(self, item):\n",
        "        new_node = Node(item)\n",
        "        new_node.next = self.top_node\n",
        "        self.top_node = new_node\n",
        "\n",
        "    def pop(self):\n",
        "        if self.is_empty():\n",
        "            return None\n",
        "        item = self.top_node.item\n",
        "        self.top_node = self.top_node.next\n",
        "        return item\n",
        "\n",
        "    def peek(self):\n",
        "        if self.is_empty():\n",
        "            return None\n",
        "        return self.top_node.item\n",
        "\n",
        "    def pop_all(self):\n",
        "        self.top_node = None  # 전체 비우기\n",
        "\n"
      ],
      "metadata": {
        "id": "aeXhx5AP1RWV"
      },
      "execution_count": 17,
      "outputs": []
    },
    {
      "cell_type": "markdown",
      "source": [
        "6번문제\n",
        "\n",
        "구현하고자 하는 Deque는 단방향원형리스트를 기반으로 한다.\n",
        "또한, 이 Deque의 front는 리스트의 맨 앞이며 tail은 리스트의 맨 끝으로 한다.\n",
        "enqueue()의 수행시간은 Deque의 front에서 수행할 시 Θ(1), Deque의 tail에서 수행할 시 Θ(1)이다. 따라서 수행 위치에 상관없이 enqueue()의 수행 시간은 Θ(1)이다.\n",
        "dequeue()의 수행시간은 Deque의 front에서 수행할 시 Θ(1), Deque의 tail에서 수행할 시 Θ(1)이다. 따라서 수행 위치에 상관없이 dequeue()의 수행 시간은 Θ(1)이다."
      ],
      "metadata": {
        "id": "LiQIMtsx1SEs"
      }
    },
    {
      "cell_type": "markdown",
      "source": [
        "7번문제\n",
        "\n",
        "구현하고자 하는 Deque는 단방향리스트를 기반으로 한다.\n",
        "또한, 이 Deque의 front는 리스트의 맨 앞이며 tail은 리스트의 맨 끝으로 한다.\n",
        "enqueue()의 수행시간은 Deque의 front에서 수행할 시 Θ(1), Deque의 tail에서 수행할 시 Θ(n)이다. 따라서 enqueue()의 수행 시간은 최악의 경우를 고려해 Θ(n)이다.\n",
        "dequeue()의 수행시간은 Deque의 front에서 수행할 시 Θ(1), Deque의 tail에서 수행할 시 Θ(n)이다. 따라서 dequeue()의 수행 시간은 최악의 경우를 고려해 Θ(n)이다."
      ],
      "metadata": {
        "id": "XSTX3yBU1cwN"
      }
    },
    {
      "cell_type": "markdown",
      "source": [
        "8번문제"
      ],
      "metadata": {
        "id": "62k6gj_Q1iHX"
      }
    },
    {
      "cell_type": "code",
      "source": [
        "class ListDeque:\n",
        "    def __init__(self):\n",
        "        self.__queue = []\n",
        "\n",
        "    def enqueue(self, item):\n",
        "        self.__queue.append(item)\n",
        "\n",
        "    def dequeue(self):\n",
        "        return self.__queue.pop(0)\n",
        "\n",
        "    def push(self, item):\n",
        "        self.__queue.insert(0, item)\n",
        "\n",
        "    def pop(self):\n",
        "        return self.__queue.pop(len(self.__queue) - 1)\n",
        "\n",
        "    def front(self):\n",
        "        if self.is_empty():\n",
        "            return None\n",
        "        else:\n",
        "            return self.__queue[0]\n",
        "\n",
        "    def rear(self):\n",
        "        if self.is_empty():\n",
        "            return None\n",
        "        else:\n",
        "            return self.__queue[len(self.__queue) - 1]\n",
        "\n",
        "    def is_empty(self):\n",
        "        return not bool(self.__queue)\n",
        "\n",
        "    def deque_all(self):\n",
        "        self.__queue.clear()\n",
        "\n",
        "    def print_deque(self):\n",
        "        print(\"Dequeue from front:\", end=' ')\n",
        "        for index in range(len(self.__queue)):\n",
        "            print(self.__queue[index], end=' ')\n",
        "        print()\n"
      ],
      "metadata": {
        "id": "7C0YB5gP1TZ8"
      },
      "execution_count": 18,
      "outputs": []
    }
  ]
}
